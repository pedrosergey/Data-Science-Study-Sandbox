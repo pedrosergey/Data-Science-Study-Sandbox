{
  "nbformat": 4,
  "nbformat_minor": 0,
  "metadata": {
    "colab": {
      "provenance": [],
      "authorship_tag": "ABX9TyPcS//Kp6SNWI6OopGvTv/M",
      "include_colab_link": true
    },
    "kernelspec": {
      "name": "python3",
      "display_name": "Python 3"
    },
    "language_info": {
      "name": "python"
    }
  },
  "cells": [
    {
      "cell_type": "markdown",
      "metadata": {
        "id": "view-in-github",
        "colab_type": "text"
      },
      "source": [
        "<a href=\"https://colab.research.google.com/github/pedrosergey/academic/blob/main/Scraping_H10.ipynb\" target=\"_parent\"><img src=\"https://colab.research.google.com/assets/colab-badge.svg\" alt=\"Open In Colab\"/></a>"
      ]
    },
    {
      "cell_type": "markdown",
      "source": [
        "# INTRODUCCIÓN\n",
        "\n",
        "La finalidad de este documento es hacer webscraping de las opiones del hotel H10 AtlanticSunset en TripAdvisor."
      ],
      "metadata": {
        "id": "sVG0n8x-ENfM"
      }
    },
    {
      "cell_type": "markdown",
      "source": [
        "# PREPARACIÓN DEL DOCUMENTO"
      ],
      "metadata": {
        "id": "fjjv80dDEZpO"
      }
    },
    {
      "cell_type": "code",
      "execution_count": 1,
      "metadata": {
        "colab": {
          "base_uri": "https://localhost:8080/"
        },
        "id": "YFHSrYQ1EItH",
        "outputId": "955e4269-f082-4c21-eb57-7229feacab2e"
      },
      "outputs": [
        {
          "output_type": "stream",
          "name": "stdout",
          "text": [
            "Requirement already satisfied: beautifulsoup4 in /usr/local/lib/python3.10/dist-packages (4.11.2)\n",
            "Requirement already satisfied: soupsieve>1.2 in /usr/local/lib/python3.10/dist-packages (from beautifulsoup4) (2.4.1)\n",
            "Requirement already satisfied: requests in /usr/local/lib/python3.10/dist-packages (2.27.1)\n",
            "Requirement already satisfied: urllib3<1.27,>=1.21.1 in /usr/local/lib/python3.10/dist-packages (from requests) (1.26.16)\n",
            "Requirement already satisfied: certifi>=2017.4.17 in /usr/local/lib/python3.10/dist-packages (from requests) (2023.5.7)\n",
            "Requirement already satisfied: charset-normalizer~=2.0.0 in /usr/local/lib/python3.10/dist-packages (from requests) (2.0.12)\n",
            "Requirement already satisfied: idna<4,>=2.5 in /usr/local/lib/python3.10/dist-packages (from requests) (3.4)\n"
          ]
        }
      ],
      "source": [
        "# descargamos las librerias a usar\n",
        "\n",
        "!pip install beautifulsoup4\n",
        "!pip install requests\n",
        "\n",
        "# importamos las librerias\n",
        "\n",
        "import requests\n",
        "from bs4 import BeautifulSoup\n"
      ]
    },
    {
      "cell_type": "markdown",
      "source": [
        "# OBTENCIÓN DE LOS DATOS"
      ],
      "metadata": {
        "id": "79Sun32UE1j9"
      }
    },
    {
      "cell_type": "code",
      "source": [
        "# url principal y siguientes\n",
        "\n",
        "url = 'https://www.booking.com/searchresults.en-gb.html?label=gog235jc-1DCAsoRkITaDEwLWF0bGFudGljLXN1bnNldEgzWANoRogBAZgBCbgBF8gBFdgBA-gBAYgCAagCA7gCiY2ApgbAAgHSAiQxMDcwMTg1NS1mM2I1LTRkYTktYTgwMS05Y2QwZWViODUyNTXYAgTgAgE&sid=2d0665c525c6822fc4c76e550b800a31&aid=356980&ss=Canary+Islands%2C+Spain&ssne=Málaga&ssne_untouched=Málaga&lang=en-gb&sb=1&src_elem=sb&src=index&dest_id=730&dest_type=region&ac_position=0&ac_click_type=b&ac_langcode=en&ac_suggestion_list_length=5&search_selected=true&search_pageview_id=2f777b181e280191&ac_meta=GhAyZjc3N2IxODFlMjgwMTkxIAAoATICZW46BGNhbmFAAEoAUAA%3D&group_adults=1&no_rooms=1&group_children=0&sb_travel_purpose=leisure&offset=0'\n",
        "next_url = 'https://www.booking.com/searchresults.en-gb.html?label=gog235jc-1DCAsoRkITaDEwLWF0bGFudGljLXN1bnNldEgzWANoRogBAZgBCbgBF8gBFdgBA-gBAYgCAagCA7gCiY2ApgbAAgHSAiQxMDcwMTg1NS1mM2I1LTRkYTktYTgwMS05Y2QwZWViODUyNTXYAgTgAgE&sid=2d0665c525c6822fc4c76e550b800a31&aid=356980&ss=Canary+Islands%2C+Spain&ssne=Málaga&ssne_untouched=Málaga&lang=en-gb&sb=1&src_elem=sb&src=index&dest_id=730&dest_type=region&ac_position=0&ac_click_type=b&ac_langcode=en&ac_suggestion_list_length=5&search_selected=true&search_pageview_id=2f777b181e280191&ac_meta=GhAyZjc3N2IxODFlMjgwMTkxIAAoATICZW46BGNhbmFAAEoAUAA%3D&group_adults=1&no_rooms=1&group_children=0&sb_travel_purpose=leisure&offset=25'\n",
        "next_url_2 = 'https://www.booking.com/searchresults.en-gb.html?label=gog235jc-1DCAsoRkITaDEwLWF0bGFudGljLXN1bnNldEgzWANoRogBAZgBCbgBF8gBFdgBA-gBAYgCAagCA7gCiY2ApgbAAgHSAiQxMDcwMTg1NS1mM2I1LTRkYTktYTgwMS05Y2QwZWViODUyNTXYAgTgAgE&sid=2d0665c525c6822fc4c76e550b800a31&aid=356980&ss=Canary+Islands%2C+Spain&ssne=Málaga&ssne_untouched=Málaga&lang=en-gb&sb=1&src_elem=sb&src=index&dest_id=730&dest_type=region&ac_position=0&ac_click_type=b&ac_langcode=en&ac_suggestion_list_length=5&search_selected=true&search_pageview_id=2f777b181e280191&ac_meta=GhAyZjc3N2IxODFlMjgwMTkxIAAoATICZW46BGNhbmFAAEoAUAA%3D&group_adults=1&no_rooms=1&group_children=0&sb_travel_purpose=leisure&offset=50'\n",
        "next_url_3 = 'https://www.booking.com/searchresults.en-gb.html?label=gog235jc-1DCAsoRkITaDEwLWF0bGFudGljLXN1bnNldEgzWANoRogBAZgBCbgBF8gBFdgBA-gBAYgCAagCA7gCiY2ApgbAAgHSAiQxMDcwMTg1NS1mM2I1LTRkYTktYTgwMS05Y2QwZWViODUyNTXYAgTgAgE&sid=2d0665c525c6822fc4c76e550b800a31&aid=356980&ss=Canary+Islands%2C+Spain&ssne=Málaga&ssne_untouched=Málaga&lang=en-gb&sb=1&src_elem=sb&src=index&dest_id=730&dest_type=region&ac_position=0&ac_click_type=b&ac_langcode=en&ac_suggestion_list_length=5&search_selected=true&search_pageview_id=2f777b181e280191&ac_meta=GhAyZjc3N2IxODFlMjgwMTkxIAAoATICZW46BGNhbmFAAEoAUAA%3D&group_adults=1&no_rooms=1&group_children=0&sb_travel_purpose=leisure&offset=75'"
      ],
      "metadata": {
        "id": "IWW61P_3El47"
      },
      "execution_count": 2,
      "outputs": []
    },
    {
      "cell_type": "code",
      "source": [
        "# vemos si podemos conectar a las páginas\n",
        "\n",
        "print(requests.get(url).status_code == 200)\n",
        "print(requests.get(next_url).status_code == 200)"
      ],
      "metadata": {
        "colab": {
          "base_uri": "https://localhost:8080/"
        },
        "id": "OZB1KuEPFMcC",
        "outputId": "db16969e-ae3b-4bdd-b1c2-9ef7dc3de1f7"
      },
      "execution_count": 3,
      "outputs": [
        {
          "output_type": "stream",
          "name": "stdout",
          "text": [
            "True\n",
            "True\n"
          ]
        }
      ]
    },
    {
      "cell_type": "code",
      "source": [
        "# cargamos el contenido de la página\n",
        "\n",
        "soup = BeautifulSoup(requests.get(url).content)"
      ],
      "metadata": {
        "id": "pxaHbQOPHF4u"
      },
      "execution_count": 4,
      "outputs": []
    },
    {
      "cell_type": "code",
      "source": [
        "# creamos una función para buscar los las diferentes características\n",
        "\n",
        "def buscador_titulos(titulos):\n",
        "  for i in titulos:\n",
        "    lista_titulos.append(i.text)\n",
        "  return lista_titulos\n",
        "\n",
        "def buscador_opiniones(opiniones):\n",
        "  for i in opiniones:\n",
        "    lista_opiniones.append(i.text)\n",
        "  return lista_opiniones\n",
        "\n",
        "\n",
        "def buscador_descripciones(descripciones):\n",
        "\n",
        "    lista_previa = []\n",
        "\n",
        "    for i in descripciones:\n",
        "        lista_previa.append(i.text)\n",
        "\n",
        "    nueva_lista = filtrar_registros(lista_previa[1:-1])\n",
        "    if isinstance(descripciones, list):\n",
        "        descripciones.extend(nueva_lista)\n",
        "    else:\n",
        "        descripciones = nueva_lista\n",
        "\n",
        "    for i in nueva_lista:\n",
        "      lista_descripciones.append(i)\n",
        "\n",
        "\n",
        "\n",
        "def buscador_puntuaciones(puntuaciones):\n",
        "  for i in puntuaciones:\n",
        "    lista_puntuaciones.append(i.text)\n",
        "  return lista_puntuaciones\n",
        "\n",
        "def buscador_denominacion(denominacion):\n",
        "  for i in denominacion:\n",
        "    lista_denominacion.append(i.text)\n",
        "  return lista_denominacion\n",
        "\n",
        "\n",
        "def buscador_caracteristica(caracteristica):\n",
        "  for i in caracteristica:\n",
        "    lista_caracteristica.append(i.text)\n",
        "  return lista_caracteristica\n",
        "\n",
        "\n",
        "def buscador_direcciones(direcciones):\n",
        "  for i, direccion in enumerate(direcciones):\n",
        "    if i % 2 == 0:\n",
        "      lista_direcciones.append(direccion.text)\n",
        "  return lista_direcciones"
      ],
      "metadata": {
        "id": "dChd7lR6Qo8l"
      },
      "execution_count": 17,
      "outputs": []
    },
    {
      "cell_type": "code",
      "source": [
        "# creamos una función que nos permita filtrar los registros\n",
        "\n",
        "import re\n",
        "\n",
        "def filtrar_registros(registros):\n",
        "\n",
        "    patron = re.compile(r\".*(Show on map|Managed by a private host|reviews).*\", re.IGNORECASE)\n",
        "\n",
        "    registros_filtrados = [registro for registro in registros if not patron.match(registro)]\n",
        "\n",
        "    return registros_filtrados"
      ],
      "metadata": {
        "id": "HG9A92Ja014r"
      },
      "execution_count": 6,
      "outputs": []
    },
    {
      "cell_type": "code",
      "source": [
        "# definimos el scraper principal\n",
        "\n",
        "def buscador_general(url):\n",
        "\n",
        "  soup = BeautifulSoup(requests.get(url).content)\n",
        "\n",
        "  titulos = soup.find_all('div', class_ = 'fcab3ed991')\n",
        "  opiniones = soup.find_all('div', class_ = 'd8eab2cf7f c90c0a70d3 db63693c62')\n",
        "  descripcion = soup.find_all('div', class_ = 'd8eab2cf7f')\n",
        "  direcciones = soup.find_all('span', class_ = 'f4bd0794db b4273d69aa')\n",
        "  puntuacion = soup.find_all('div', class_ = 'b5cd09854e d10a6220b4')\n",
        "  denominacion = soup.find_all('div', class_ = 'b5cd09854e f0d4d6a2f5 e46e88563a')\n",
        "  caracteristica = soup.find_all('span', class_ = 'd8eab2c7f7 be09c104ad')\n",
        "\n",
        "  buscador_titulos(titulos)\n",
        "  buscador_opiniones(opiniones)\n",
        "  buscador_descripciones(descripcion)\n",
        "  buscador_direcciones(direcciones)\n",
        "  buscador_puntuaciones(puntuacion)\n",
        "  buscador_denominacion(denominacion)\n",
        "  buscador_caracteristica(caracteristica)"
      ],
      "metadata": {
        "id": "EMhdxn0XH35-"
      },
      "execution_count": 7,
      "outputs": []
    },
    {
      "cell_type": "code",
      "source": [
        "# creamos las listas vacías\n",
        "\n",
        "lista_titulos = []\n",
        "lista_opiniones = []\n",
        "lista_descripciones = []\n",
        "lista_puntuaciones = []\n",
        "lista_denominacion = []\n",
        "lista_direcciones = []\n",
        "lista_caracteristica = []"
      ],
      "metadata": {
        "id": "kvzz-85NSnRL"
      },
      "execution_count": 19,
      "outputs": []
    },
    {
      "cell_type": "code",
      "source": [
        "# escrapeamos los 1000 primeros registros\n",
        "\n",
        "for i in range(0,995,25):\n",
        "\n",
        "  url = url = 'https://www.booking.com/searchresults.en-gb.html?label=gog235jc-1DCAsoRkITaDEwLWF0bGFudGljLXN1bnNldEgzWANoRogBAZgBCbgBF8gBFdgBA-gBAYgCAagCA7gCiY2ApgbAAgHSAiQxMDcwMTg1NS1mM2I1LTRkYTktYTgwMS05Y2QwZWViODUyNTXYAgTgAgE&sid=2d0665c525c6822fc4c76e550b800a31&aid=356980&ss=Canary+Islands%2C+Spain&ssne=Málaga&ssne_untouched=Málaga&lang=en-gb&sb=1&src_elem=sb&src=index&dest_id=730&dest_type=region&ac_position=0&ac_click_type=b&ac_langcode=en&ac_suggestion_list_length=5&search_selected=true&search_pageview_id=2f777b181e280191&ac_meta=GhAyZjc3N2IxODFlMjgwMTkxIAAoATICZW46BGNhbmFAAEoAUAA%3D&group_adults=1&no_rooms=1&group_children=0&sb_travel_purpose=leisure&offset=' + str(i)\n",
        "  buscador_general(url)"
      ],
      "metadata": {
        "id": "37ccMpwn08St"
      },
      "execution_count": 26,
      "outputs": []
    },
    {
      "cell_type": "code",
      "source": [
        "# creamos un dataset con la información recogida\n",
        "\n",
        "import pandas as pd\n",
        "import numpy as np\n",
        "\n",
        "alojamientos = pd.DataFrame({'alojamiento': np.array(lista_titulos), 'valoracion': np.array(lista_puntuaciones),\n",
        "                            'titulo_valoracion': np.array(lista_denominacion), 'ubicacion': np.array(lista_direcciones),\n",
        "                            'num_opiniones': np.array(lista_opiniones), 'descripcion':np.array(lista_descripciones)\n",
        "})\n"
      ],
      "metadata": {
        "id": "N4gizMnkWsMk"
      },
      "execution_count": 27,
      "outputs": []
    },
    {
      "cell_type": "code",
      "source": [
        "# exportamos los datos\n",
        "\n",
        "alojamientos.to_csv(\"alojamientos.csv\")"
      ],
      "metadata": {
        "id": "4wIuCN3F2kIH"
      },
      "execution_count": 33,
      "outputs": []
    }
  ]
}